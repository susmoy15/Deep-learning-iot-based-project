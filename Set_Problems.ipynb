{
  "nbformat": 4,
  "nbformat_minor": 0,
  "metadata": {
    "colab": {
      "provenance": [],
      "authorship_tag": "ABX9TyMI9TiB5UnCAbNtBokIf7pP",
      "include_colab_link": true
    },
    "kernelspec": {
      "name": "python3",
      "display_name": "Python 3"
    },
    "language_info": {
      "name": "python"
    }
  },
  "cells": [
    {
      "cell_type": "markdown",
      "metadata": {
        "id": "view-in-github",
        "colab_type": "text"
      },
      "source": [
        "<a href=\"https://colab.research.google.com/github/susmoy15/Deep-learning-iot-based-project/blob/main/Set_Problems.ipynb\" target=\"_parent\"><img src=\"https://colab.research.google.com/assets/colab-badge.svg\" alt=\"Open In Colab\"/></a>"
      ]
    },
    {
      "cell_type": "markdown",
      "source": [
        "**69. Duplicate Removal:** Write a Python program that takes a list of elements as input and creates a new set containing only the unique elements from the list."
      ],
      "metadata": {
        "id": "foHm5ztH8kxg"
      }
    },
    {
      "cell_type": "code",
      "source": [
        "input_list = input(\"Enter elements separated by spaces: \").split()\n",
        "unique_set = set(input_list)\n",
        "print(\"Unique elements:\",unique_set)"
      ],
      "metadata": {
        "colab": {
          "base_uri": "https://localhost:8080/"
        },
        "id": "51yOKxN38mCQ",
        "outputId": "623a6322-5a83-47ad-ae1f-fe554f37367a"
      },
      "execution_count": null,
      "outputs": [
        {
          "output_type": "stream",
          "name": "stdout",
          "text": [
            "Enter elements separated by spaces: 1 2 5 1 2 5 55\n",
            "Unique elements: {'55', '1', '5', '2'}\n"
          ]
        }
      ]
    },
    {
      "cell_type": "markdown",
      "source": [
        "**70. Set Intersection:** Given two sets A and B, write a Python program to find their intersection and print the common elements."
      ],
      "metadata": {
        "id": "a4i3iZDj9pIw"
      }
    },
    {
      "cell_type": "code",
      "source": [
        "A = {1, 2, 3, 4, 5}\n",
        "B = {4, 5, 6, 7, 8}\n",
        "intersection = A&B\n",
        "# Alternatively, you can use the intersection() method\n",
        "# intersection = A.intersection(B)\n",
        "print(\"Intersection of A and B:\", intersection)"
      ],
      "metadata": {
        "colab": {
          "base_uri": "https://localhost:8080/"
        },
        "id": "Jo38pjZ59r24",
        "outputId": "e5eb6ae4-c636-4480-9459-3fe4a238cdba"
      },
      "execution_count": null,
      "outputs": [
        {
          "output_type": "stream",
          "name": "stdout",
          "text": [
            "Intersection of A and B: {4, 5}\n"
          ]
        }
      ]
    },
    {
      "cell_type": "markdown",
      "source": [
        "**71. Set Union:** Given two sets A and B, write a Python program to find their union and print all the distinct elements from both sets."
      ],
      "metadata": {
        "id": "xYEFTQwm-1kZ"
      }
    },
    {
      "cell_type": "code",
      "source": [
        "A = {1, 2, 3, 4, 5}\n",
        "B = {4, 5, 6, 7, 8}\n",
        "union = A|B\n",
        "# Alternatively, you can use the union() method\n",
        "# union = A.union(B)\n",
        "print(\"Union of A and B:\", union)"
      ],
      "metadata": {
        "colab": {
          "base_uri": "https://localhost:8080/"
        },
        "id": "HjHUvE0d-3fh",
        "outputId": "9200139b-9bbb-448c-c17e-c255d7c1187a"
      },
      "execution_count": null,
      "outputs": [
        {
          "output_type": "stream",
          "name": "stdout",
          "text": [
            "Union of A and B: {1, 2, 3, 4, 5, 6, 7, 8}\n"
          ]
        }
      ]
    },
    {
      "cell_type": "markdown",
      "source": [
        "**72. Set Difference:** Given two sets A and B, write a Python program to find the difference between set A and set B (i.e., elements present in A but not in B) and print the result."
      ],
      "metadata": {
        "id": "yg-0gyHw_T4q"
      }
    },
    {
      "cell_type": "code",
      "source": [
        "A = {1, 2, 3, 4, 5}\n",
        "B = {4, 5, 6, 7, 8}\n",
        "difference = A - B\n",
        "# Alternatively, you can use the difference() method\n",
        "# difference = A.difference(B)\n",
        "print(\"Difference between A and B (A - B):\", difference)"
      ],
      "metadata": {
        "colab": {
          "base_uri": "https://localhost:8080/"
        },
        "id": "outwBQWe_VPz",
        "outputId": "a145bbdf-536e-4764-cbd2-d19625d82f26"
      },
      "execution_count": null,
      "outputs": [
        {
          "output_type": "stream",
          "name": "stdout",
          "text": [
            "Difference between A and B (A - B): {1, 2, 3}\n"
          ]
        }
      ]
    },
    {
      "cell_type": "markdown",
      "source": [
        "**73. Set Symmetric Difference:** Given two sets A and B, write a Python program to find the symmetric difference between the two sets (i.e., elements that are present in either set A or set B, but not in both) and print the result."
      ],
      "metadata": {
        "id": "tiZZG5_Jbnoe"
      }
    },
    {
      "cell_type": "code",
      "source": [
        "A = {1, 2, 3, 4, 5}\n",
        "B = {4, 5, 6, 7, 8}\n",
        "symmetric_difference = A ^ B\n",
        "print(\"Symmetric Difference between A and B:\", symmetric_difference)"
      ],
      "metadata": {
        "colab": {
          "base_uri": "https://localhost:8080/"
        },
        "id": "uS_-Exwqbq4W",
        "outputId": "f69aa4c5-e550-486d-e905-6aaaa54a88d1"
      },
      "execution_count": null,
      "outputs": [
        {
          "output_type": "stream",
          "name": "stdout",
          "text": [
            "Symmetric Difference between A and B: {1, 2, 3, 6, 7, 8}\n"
          ]
        }
      ]
    },
    {
      "cell_type": "markdown",
      "source": [
        "**74. Set Operations:** Given three sets A, B, and C, write a Python program to find and print the intersection of A and B, the union of B and C, and the difference between C and A."
      ],
      "metadata": {
        "id": "RyxLwk5RcXw2"
      }
    },
    {
      "cell_type": "code",
      "source": [
        "A = {1, 2, 3, 4, 5}\n",
        "B = {4, 5, 6, 7}\n",
        "C = {5, 6, 7, 8, 9}\n",
        "\n",
        "intersection_AB = A & B\n",
        "\n",
        "union_BC = B | C\n",
        "\n",
        "difference_CA = C - A\n",
        "\n",
        "print(\"Intersection of A and B:\", intersection_AB)\n",
        "print(\"Union of B and C:\", union_BC)\n",
        "print(\"Difference between C and A:\", difference_CA)\n"
      ],
      "metadata": {
        "colab": {
          "base_uri": "https://localhost:8080/"
        },
        "id": "1o5Z6HjVcbot",
        "outputId": "dfaca48b-3c57-4f7a-d540-172b9f6a1c76"
      },
      "execution_count": null,
      "outputs": [
        {
          "output_type": "stream",
          "name": "stdout",
          "text": [
            "Intersection of A and B: {4, 5}\n",
            "Union of B and C: {4, 5, 6, 7, 8, 9}\n",
            "Difference between C and A: {8, 9, 6, 7}\n"
          ]
        }
      ]
    },
    {
      "cell_type": "markdown",
      "source": [
        "**75. Set Subset Check:** Given two sets A and B, write a Python program to check if set A is a subset of set B and print the result."
      ],
      "metadata": {
        "id": "knO4qIwSxYfe"
      }
    },
    {
      "cell_type": "code",
      "source": [
        "A_input = input(\"Enter the elements of set A (separate by space): \")\n",
        "A_input = A_input.strip('{}')\n",
        "A = set(map(int, A_input.split()))\n",
        "B = {1, 2, 3, 4, 5}\n",
        "if A.issubset(B):\n",
        "    print(\"Set A is a subset of Set B.\")\n",
        "else:\n",
        "    print(\"Set A is not a subset of Set B.\")\n"
      ],
      "metadata": {
        "colab": {
          "base_uri": "https://localhost:8080/"
        },
        "id": "L-HVXlt5xaHG",
        "outputId": "ea1e54b9-62a8-4ce3-d23d-b13bb6a1c49b"
      },
      "execution_count": null,
      "outputs": [
        {
          "output_type": "stream",
          "name": "stdout",
          "text": [
            "Enter the elements of set A (separate by space): {1 2 3}\n",
            "Set A is a subset of Set B.\n"
          ]
        }
      ]
    },
    {
      "cell_type": "markdown",
      "source": [
        "**76. Set Superset Check:** Given two sets A and B, write a Python program to check if set A is a superset of set B and print the result."
      ],
      "metadata": {
        "id": "Pv2p7S0KklNC"
      }
    },
    {
      "cell_type": "code",
      "source": [
        "A = {1, 2, 3, 4, 5}\n",
        "B = {4, 5, 6, 7}\n",
        "if A.issuperset(B):\n",
        "    print(\"Set A is a superset of Set B.\")\n",
        "else:\n",
        "    print(\"Set A is not a superset of Set B.\")"
      ],
      "metadata": {
        "colab": {
          "base_uri": "https://localhost:8080/"
        },
        "id": "7cYNAUUMkpbC",
        "outputId": "1af5d79b-f0b8-415a-f19d-1eaff8a83111"
      },
      "execution_count": null,
      "outputs": [
        {
          "output_type": "stream",
          "name": "stdout",
          "text": [
            "Set A is not a superset of Set B.\n"
          ]
        }
      ]
    },
    {
      "cell_type": "markdown",
      "source": [
        "**77. Set Length Check:** Write a Python program that takes a set as input and prints the number of elements in the set."
      ],
      "metadata": {
        "id": "F9LvF4Pyld5C"
      }
    },
    {
      "cell_type": "code",
      "source": [
        "input_list = input(\"Enter elements separated by spaces: \")\n",
        "elements = set(input_list.split())\n",
        "print(\"The input set is:\",elements)\n",
        "print(\"The number of elements in the set is:\",len(elements))"
      ],
      "metadata": {
        "colab": {
          "base_uri": "https://localhost:8080/"
        },
        "id": "KBISzGY0lguq",
        "outputId": "4b24dcb2-5980-43e1-ec61-9e7a87260b6f"
      },
      "execution_count": null,
      "outputs": [
        {
          "output_type": "stream",
          "name": "stdout",
          "text": [
            "Enter elements separated by spaces: 1 2 3 4 5\n",
            "The input set is: {'2', '3', '5', '4', '1'}\n",
            "The number of elements in the set is: 5\n"
          ]
        }
      ]
    },
    {
      "cell_type": "markdown",
      "source": [
        "**76. Set Membership Test:** Write a Python program that takes an element as input and checks if it exists in a given set. Print “Found” if the element is present and “Not Found” otherwise."
      ],
      "metadata": {
        "id": "3RAs6U2EoNik"
      }
    },
    {
      "cell_type": "code",
      "source": [
        "my_set = {1, 2, 3, 4, 5}\n",
        "input_list = input(\"Enter elements separated by spaces: \")\n",
        "if input_list.isdigit():\n",
        "  input_list = int(input_list)\n",
        "  if input_list in my_set:\n",
        "    print(\"Found\")\n",
        "  else:\n",
        "    print(\"Not Found\")\n",
        "else:\n",
        "  print(\"Invalid input. Please enter a valid integer.\")\n"
      ],
      "metadata": {
        "id": "ZCNFT5S4obIk",
        "colab": {
          "base_uri": "https://localhost:8080/"
        },
        "outputId": "0ba6daf4-6e4d-4575-d06e-cfc0c3af7c8b"
      },
      "execution_count": null,
      "outputs": [
        {
          "output_type": "stream",
          "name": "stdout",
          "text": [
            "Enter elements separated by spaces: 4\n",
            "Found\n"
          ]
        }
      ]
    }
  ]
}