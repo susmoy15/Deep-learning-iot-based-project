{
  "nbformat": 4,
  "nbformat_minor": 0,
  "metadata": {
    "colab": {
      "provenance": [],
      "authorship_tag": "ABX9TyOoJe85KPFdTrfz4P3CaF89",
      "include_colab_link": true
    },
    "kernelspec": {
      "name": "python3",
      "display_name": "Python 3"
    },
    "language_info": {
      "name": "python"
    }
  },
  "cells": [
    {
      "cell_type": "markdown",
      "metadata": {
        "id": "view-in-github",
        "colab_type": "text"
      },
      "source": [
        "<a href=\"https://colab.research.google.com/github/susmoy15/Deep-learning-iot-based-project/blob/main/Nested_List_Problems.ipynb\" target=\"_parent\"><img src=\"https://colab.research.google.com/assets/colab-badge.svg\" alt=\"Open In Colab\"/></a>"
      ]
    },
    {
      "cell_type": "markdown",
      "source": [
        "**44. Matrix Addition:** Write a Python program to add two matrices represented as nested lists."
      ],
      "metadata": {
        "id": "HBU4vRBSFIE3"
      }
    },
    {
      "cell_type": "code",
      "source": [
        "def add_matrics(matrix1,matrix2):\n",
        "  if len(matrix1) != len(matrix2) or len(matrix1[0]) != len(matrix2[0]):\n",
        "    raise ValueError(\"Matrix dimensions must match for addition\")\n",
        "\n",
        "  result = []\n",
        "\n",
        "  for i in range(len(matrix1)):\n",
        "      row = []\n",
        "      for j in range(len(matrix1[0])):\n",
        "        row.append(matrix1[i][j] + matrix2[i][j])\n",
        "      result.append(row)\n",
        "  return result\n",
        "\n",
        "matrix1 = [\n",
        "    [1, 2, 3],\n",
        "    [4, 5, 6],\n",
        "    [7, 8, 9]\n",
        "]\n",
        "\n",
        "matrix2 = [\n",
        "    [9, 8, 7],\n",
        "    [6, 5, 4],\n",
        "    [3, 2, 1]\n",
        "]\n",
        "\n",
        "result = add_matrics(matrix1,matrix2)\n",
        "\n",
        "print(\"Sum of the matrics:\")\n",
        "for row in result:\n",
        "    print(row)"
      ],
      "metadata": {
        "id": "QvuWajoPFKyX",
        "colab": {
          "base_uri": "https://localhost:8080/"
        },
        "outputId": "aeb6c309-9468-4608-ea39-893c5ea23988"
      },
      "execution_count": null,
      "outputs": [
        {
          "output_type": "stream",
          "name": "stdout",
          "text": [
            "Sum of the matrics:\n",
            "[9, 16, 21]\n",
            "[24, 25, 24]\n",
            "[21, 16, 9]\n"
          ]
        }
      ]
    },
    {
      "cell_type": "markdown",
      "source": [
        "**45.Flatten Nested List:** Write a Python program to flatten a given nested list and convert it into a single-dimensional list."
      ],
      "metadata": {
        "id": "pEs3Ay7aOfP_"
      }
    },
    {
      "cell_type": "code",
      "source": [
        "def flatten(nested_list):\n",
        "  flattened_list = []\n",
        "\n",
        "  for item in nested_list:\n",
        "    if isinstance(item, list):\n",
        "         flattened_list.extend(flatten(item))\n",
        "    else:\n",
        "         flattened_list.append(item)\n",
        "  return flattened_list\n",
        "\n",
        "nested_list = [1,2,[3],[8,5,5,[5,8]]]\n",
        "flattened_list = flatten(nested_list)\n",
        "print(\"Flattened List:\",flattened_list)\n"
      ],
      "metadata": {
        "colab": {
          "base_uri": "https://localhost:8080/"
        },
        "id": "vzkESHRuOiru",
        "outputId": "ac02e503-47c3-4645-88ea-05069ed044cc"
      },
      "execution_count": null,
      "outputs": [
        {
          "output_type": "stream",
          "name": "stdout",
          "text": [
            "Flattened List: [1, 2, 3, 8, 5, 5, 5, 8]\n"
          ]
        }
      ]
    },
    {
      "cell_type": "markdown",
      "source": [
        "**46. List Element Frequency:** Given a nested list containing lists of integers, write a Python program to count the frequency of each element in the entire nested list."
      ],
      "metadata": {
        "id": "c7LZ3YJ-VMLb"
      }
    },
    {
      "cell_type": "code",
      "source": [
        "from collections import Counter\n",
        "def count_frequency(nested_list):\n",
        "\n",
        "    flattened_list = []\n",
        "    for sublist in nested_list:\n",
        "        flattened_list.extend(sublist)\n",
        "    frequency = Counter(flattened_list)\n",
        "    return frequency\n",
        "\n",
        "nested_list = [[1, 2, 3], [2, 3, 4], [1, 3, 5, 6]]\n",
        "frequency = count_frequency(nested_list)\n",
        "print(\"Element frequencies:\", frequency)\n"
      ],
      "metadata": {
        "colab": {
          "base_uri": "https://localhost:8080/"
        },
        "id": "KaBwEXGzVPYy",
        "outputId": "2d5ae639-5267-4116-e88d-b7ca6b517fd3"
      },
      "execution_count": null,
      "outputs": [
        {
          "output_type": "stream",
          "name": "stdout",
          "text": [
            "Element frequencies: Counter({3: 3, 1: 2, 2: 2, 4: 1, 5: 1, 6: 1})\n"
          ]
        }
      ]
    },
    {
      "cell_type": "markdown",
      "source": [
        "**47. Transpose Matrix:** Write a Python program to transpose a given matrix represented as a nested list."
      ],
      "metadata": {
        "id": "sjlWEupaZqxN"
      }
    },
    {
      "cell_type": "code",
      "source": [
        "def transpose_matrix(matrix):\n",
        "    transposed = [[matrix[j][i] for j in range(len(matrix))] for i in range(len(matrix[0]))]\n",
        "    return transposed\n",
        "matrix = [\n",
        "    [1, 2, 3],\n",
        "    [4, 5, 6],\n",
        "    [7, 8, 9]\n",
        "]\n",
        "transposed_matrix = transpose_matrix(matrix)\n",
        "print(\"Original Matrix:\")\n",
        "for row in matrix:\n",
        "    print(row)\n",
        "\n",
        "print(\"\\nTransposed Matrix:\")\n",
        "for row in transposed_matrix:\n",
        "    print(row)\n"
      ],
      "metadata": {
        "colab": {
          "base_uri": "https://localhost:8080/"
        },
        "id": "jp1Spr3sZu--",
        "outputId": "37b7db43-385d-4214-fab2-0e26645a6f3e"
      },
      "execution_count": null,
      "outputs": [
        {
          "output_type": "stream",
          "name": "stdout",
          "text": [
            "Original Matrix:\n",
            "[1, 2, 3]\n",
            "[4, 5, 6]\n",
            "[7, 8, 9]\n",
            "\n",
            "Transposed Matrix:\n",
            "[1, 4, 7]\n",
            "[2, 5, 8]\n",
            "[3, 6, 9]\n"
          ]
        }
      ]
    },
    {
      "cell_type": "markdown",
      "source": [
        "**48. List of Lists Concatenation:** Given a list of nested lists, write a Python program to concatenate all the sublists into a single flat list."
      ],
      "metadata": {
        "id": "SUvzgGh9ayd_"
      }
    },
    {
      "cell_type": "code",
      "source": [
        "def concatenate_sublists(nested_lists):\n",
        "    return [item for sublist in nested_lists for item in sublist]\n",
        "nested_lists = [\n",
        "    [1, 2, 3],\n",
        "    [4, 5],\n",
        "    [6, 7, 8, 9]\n",
        "]\n",
        "flat_list = concatenate_sublists(nested_lists)\n",
        "print(\"Concatenated Flat List:\", flat_list)"
      ],
      "metadata": {
        "colab": {
          "base_uri": "https://localhost:8080/"
        },
        "id": "We7mQcNKa27f",
        "outputId": "cdcff04b-4011-4227-aab1-3ae42893012a"
      },
      "execution_count": null,
      "outputs": [
        {
          "output_type": "stream",
          "name": "stdout",
          "text": [
            "Concatenated Flat List: [1, 2, 3, 4, 5, 6, 7, 8, 9]\n"
          ]
        }
      ]
    }
  ]
}